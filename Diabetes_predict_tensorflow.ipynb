{
  "cells": [
    {
      "cell_type": "markdown",
      "metadata": {
        "id": "view-in-github",
        "colab_type": "text"
      },
      "source": [
        "<a href=\"https://colab.research.google.com/github/prsdm/Diabetes-Detection/blob/main/Diabetes_predict_tensorflow.ipynb\" target=\"_parent\"><img src=\"https://colab.research.google.com/assets/colab-badge.svg\" alt=\"Open In Colab\"/></a>"
      ]
    },
    {
      "cell_type": "markdown",
      "id": "20f7e11d",
      "metadata": {
        "papermill": {
          "duration": 0.015961,
          "end_time": "2023-05-15T16:02:35.698021",
          "exception": false,
          "start_time": "2023-05-15T16:02:35.682060",
          "status": "completed"
        },
        "tags": [],
        "id": "20f7e11d"
      },
      "source": [
        "# Diabetes Detection Using TensorFlow and Keras 💊🏥🩺"
      ]
    },
    {
      "cell_type": "markdown",
      "id": "fc871f0e",
      "metadata": {
        "papermill": {
          "duration": 0.014855,
          "end_time": "2023-05-15T16:02:35.759889",
          "exception": false,
          "start_time": "2023-05-15T16:02:35.745034",
          "status": "completed"
        },
        "tags": [],
        "id": "fc871f0e"
      },
      "source": [
        "This notebook will walk you through the process of creating a classification model using TensorFlow to predict if a person has diabetes or not, based on a dataset. You'll learn how to import data, preprocess features, build a machine learning model, and assess its accuracy.\n",
        "\n",
        "The diabetes dataset is taken from the '/kaggle/input/diabetes-prediction-dataset/diabetes_prediction_dataset.csv'\n",
        "\n",
        "Let's get started!"
      ]
    },
    {
      "cell_type": "code",
      "execution_count": 1,
      "id": "813f06e5",
      "metadata": {
        "execution": {
          "iopub.execute_input": "2023-05-15T16:02:54.713929Z",
          "iopub.status.busy": "2023-05-15T16:02:54.713499Z",
          "iopub.status.idle": "2023-05-15T16:03:11.918031Z",
          "shell.execute_reply": "2023-05-15T16:03:11.916707Z"
        },
        "papermill": {
          "duration": 17.228604,
          "end_time": "2023-05-15T16:03:11.921013",
          "exception": false,
          "start_time": "2023-05-15T16:02:54.692409",
          "status": "completed"
        },
        "tags": [],
        "id": "813f06e5"
      },
      "outputs": [],
      "source": [
        "# Importing the necessary libraries\n",
        "import pandas as pd\n",
        "import numpy as np\n",
        "from sklearn.preprocessing import LabelEncoder, StandardScaler\n",
        "from sklearn.model_selection import train_test_split\n",
        "import tensorflow as tf\n",
        "from tensorflow.keras import Sequential\n",
        "from tensorflow.keras.layers import Dense\n",
        "from tensorflow.keras.layers import Dropout"
      ]
    },
    {
      "cell_type": "markdown",
      "id": "0911ed57",
      "metadata": {
        "papermill": {
          "duration": 0.135702,
          "end_time": "2023-05-15T16:03:12.193941",
          "exception": false,
          "start_time": "2023-05-15T16:03:12.058239",
          "status": "completed"
        },
        "tags": [],
        "id": "0911ed57"
      },
      "source": [
        "\n",
        "- **sklearn.preprocessing.LabelEncoder** is used to encode categorical labels into numeric values\n",
        "\n",
        "\n",
        "- **sklearn.preprocessing.StandardScaler** is used to standardize features from the data resources\n",
        "\n",
        "\n",
        "- **sklearn.model_selection.train_test_split** is used to split the dataset into training and test sets\n",
        "\n",
        "\n",
        "- **tensorflow** is a popular framework for building and training machine learning models\n",
        "\n",
        "\n",
        "- **tensorflow.keras.Sequential** is a sequential model where the layers are linearly stacked\n",
        "\n",
        "\n",
        "- **tensorflow.keras.layers.Dense** defines a dense (fully connected) layer of the neural network\n",
        "\n",
        "\n",
        "- **tensorflow.keras.layers.Dropout** is used to add dropout layers to avoid overfitting"
      ]
    },
    {
      "cell_type": "code",
      "execution_count": 2,
      "id": "f477d068",
      "metadata": {
        "execution": {
          "iopub.execute_input": "2023-05-15T16:03:13.010450Z",
          "iopub.status.busy": "2023-05-15T16:03:13.008916Z",
          "iopub.status.idle": "2023-05-15T16:03:13.288657Z",
          "shell.execute_reply": "2023-05-15T16:03:13.287376Z"
        },
        "papermill": {
          "duration": 0.420497,
          "end_time": "2023-05-15T16:03:13.291462",
          "exception": false,
          "start_time": "2023-05-15T16:03:12.870965",
          "status": "completed"
        },
        "tags": [],
        "colab": {
          "base_uri": "https://localhost:8080/",
          "height": 206
        },
        "id": "f477d068",
        "outputId": "2c425354-dcca-49d9-d508-ff891e11382c"
      },
      "outputs": [
        {
          "output_type": "execute_result",
          "data": {
            "text/plain": [
              "   gender   age  hypertension  heart_disease smoking_history    bmi  \\\n",
              "0  Female  80.0             0              1           never  25.19   \n",
              "1  Female  54.0             0              0         No Info  27.32   \n",
              "2    Male  28.0             0              0           never  27.32   \n",
              "3  Female  36.0             0              0         current  23.45   \n",
              "4    Male  76.0             1              1         current  20.14   \n",
              "\n",
              "   HbA1c_level  blood_glucose_level  diabetes  \n",
              "0          6.6                  140         0  \n",
              "1          6.6                   80         0  \n",
              "2          5.7                  158         0  \n",
              "3          5.0                  155         0  \n",
              "4          4.8                  155         0  "
            ],
            "text/html": [
              "\n",
              "  <div id=\"df-ff6e6c76-faad-40be-af1a-b347b2ad91e8\" class=\"colab-df-container\">\n",
              "    <div>\n",
              "<style scoped>\n",
              "    .dataframe tbody tr th:only-of-type {\n",
              "        vertical-align: middle;\n",
              "    }\n",
              "\n",
              "    .dataframe tbody tr th {\n",
              "        vertical-align: top;\n",
              "    }\n",
              "\n",
              "    .dataframe thead th {\n",
              "        text-align: right;\n",
              "    }\n",
              "</style>\n",
              "<table border=\"1\" class=\"dataframe\">\n",
              "  <thead>\n",
              "    <tr style=\"text-align: right;\">\n",
              "      <th></th>\n",
              "      <th>gender</th>\n",
              "      <th>age</th>\n",
              "      <th>hypertension</th>\n",
              "      <th>heart_disease</th>\n",
              "      <th>smoking_history</th>\n",
              "      <th>bmi</th>\n",
              "      <th>HbA1c_level</th>\n",
              "      <th>blood_glucose_level</th>\n",
              "      <th>diabetes</th>\n",
              "    </tr>\n",
              "  </thead>\n",
              "  <tbody>\n",
              "    <tr>\n",
              "      <th>0</th>\n",
              "      <td>Female</td>\n",
              "      <td>80.0</td>\n",
              "      <td>0</td>\n",
              "      <td>1</td>\n",
              "      <td>never</td>\n",
              "      <td>25.19</td>\n",
              "      <td>6.6</td>\n",
              "      <td>140</td>\n",
              "      <td>0</td>\n",
              "    </tr>\n",
              "    <tr>\n",
              "      <th>1</th>\n",
              "      <td>Female</td>\n",
              "      <td>54.0</td>\n",
              "      <td>0</td>\n",
              "      <td>0</td>\n",
              "      <td>No Info</td>\n",
              "      <td>27.32</td>\n",
              "      <td>6.6</td>\n",
              "      <td>80</td>\n",
              "      <td>0</td>\n",
              "    </tr>\n",
              "    <tr>\n",
              "      <th>2</th>\n",
              "      <td>Male</td>\n",
              "      <td>28.0</td>\n",
              "      <td>0</td>\n",
              "      <td>0</td>\n",
              "      <td>never</td>\n",
              "      <td>27.32</td>\n",
              "      <td>5.7</td>\n",
              "      <td>158</td>\n",
              "      <td>0</td>\n",
              "    </tr>\n",
              "    <tr>\n",
              "      <th>3</th>\n",
              "      <td>Female</td>\n",
              "      <td>36.0</td>\n",
              "      <td>0</td>\n",
              "      <td>0</td>\n",
              "      <td>current</td>\n",
              "      <td>23.45</td>\n",
              "      <td>5.0</td>\n",
              "      <td>155</td>\n",
              "      <td>0</td>\n",
              "    </tr>\n",
              "    <tr>\n",
              "      <th>4</th>\n",
              "      <td>Male</td>\n",
              "      <td>76.0</td>\n",
              "      <td>1</td>\n",
              "      <td>1</td>\n",
              "      <td>current</td>\n",
              "      <td>20.14</td>\n",
              "      <td>4.8</td>\n",
              "      <td>155</td>\n",
              "      <td>0</td>\n",
              "    </tr>\n",
              "  </tbody>\n",
              "</table>\n",
              "</div>\n",
              "    <div class=\"colab-df-buttons\">\n",
              "\n",
              "  <div class=\"colab-df-container\">\n",
              "    <button class=\"colab-df-convert\" onclick=\"convertToInteractive('df-ff6e6c76-faad-40be-af1a-b347b2ad91e8')\"\n",
              "            title=\"Convert this dataframe to an interactive table.\"\n",
              "            style=\"display:none;\">\n",
              "\n",
              "  <svg xmlns=\"http://www.w3.org/2000/svg\" height=\"24px\" viewBox=\"0 -960 960 960\">\n",
              "    <path d=\"M120-120v-720h720v720H120Zm60-500h600v-160H180v160Zm220 220h160v-160H400v160Zm0 220h160v-160H400v160ZM180-400h160v-160H180v160Zm440 0h160v-160H620v160ZM180-180h160v-160H180v160Zm440 0h160v-160H620v160Z\"/>\n",
              "  </svg>\n",
              "    </button>\n",
              "\n",
              "  <style>\n",
              "    .colab-df-container {\n",
              "      display:flex;\n",
              "      gap: 12px;\n",
              "    }\n",
              "\n",
              "    .colab-df-convert {\n",
              "      background-color: #E8F0FE;\n",
              "      border: none;\n",
              "      border-radius: 50%;\n",
              "      cursor: pointer;\n",
              "      display: none;\n",
              "      fill: #1967D2;\n",
              "      height: 32px;\n",
              "      padding: 0 0 0 0;\n",
              "      width: 32px;\n",
              "    }\n",
              "\n",
              "    .colab-df-convert:hover {\n",
              "      background-color: #E2EBFA;\n",
              "      box-shadow: 0px 1px 2px rgba(60, 64, 67, 0.3), 0px 1px 3px 1px rgba(60, 64, 67, 0.15);\n",
              "      fill: #174EA6;\n",
              "    }\n",
              "\n",
              "    .colab-df-buttons div {\n",
              "      margin-bottom: 4px;\n",
              "    }\n",
              "\n",
              "    [theme=dark] .colab-df-convert {\n",
              "      background-color: #3B4455;\n",
              "      fill: #D2E3FC;\n",
              "    }\n",
              "\n",
              "    [theme=dark] .colab-df-convert:hover {\n",
              "      background-color: #434B5C;\n",
              "      box-shadow: 0px 1px 3px 1px rgba(0, 0, 0, 0.15);\n",
              "      filter: drop-shadow(0px 1px 2px rgba(0, 0, 0, 0.3));\n",
              "      fill: #FFFFFF;\n",
              "    }\n",
              "  </style>\n",
              "\n",
              "    <script>\n",
              "      const buttonEl =\n",
              "        document.querySelector('#df-ff6e6c76-faad-40be-af1a-b347b2ad91e8 button.colab-df-convert');\n",
              "      buttonEl.style.display =\n",
              "        google.colab.kernel.accessAllowed ? 'block' : 'none';\n",
              "\n",
              "      async function convertToInteractive(key) {\n",
              "        const element = document.querySelector('#df-ff6e6c76-faad-40be-af1a-b347b2ad91e8');\n",
              "        const dataTable =\n",
              "          await google.colab.kernel.invokeFunction('convertToInteractive',\n",
              "                                                    [key], {});\n",
              "        if (!dataTable) return;\n",
              "\n",
              "        const docLinkHtml = 'Like what you see? Visit the ' +\n",
              "          '<a target=\"_blank\" href=https://colab.research.google.com/notebooks/data_table.ipynb>data table notebook</a>'\n",
              "          + ' to learn more about interactive tables.';\n",
              "        element.innerHTML = '';\n",
              "        dataTable['output_type'] = 'display_data';\n",
              "        await google.colab.output.renderOutput(dataTable, element);\n",
              "        const docLink = document.createElement('div');\n",
              "        docLink.innerHTML = docLinkHtml;\n",
              "        element.appendChild(docLink);\n",
              "      }\n",
              "    </script>\n",
              "  </div>\n",
              "\n",
              "\n",
              "<div id=\"df-b4cb55bb-d8d3-46c8-96bd-8198d8f2a678\">\n",
              "  <button class=\"colab-df-quickchart\" onclick=\"quickchart('df-b4cb55bb-d8d3-46c8-96bd-8198d8f2a678')\"\n",
              "            title=\"Suggest charts\"\n",
              "            style=\"display:none;\">\n",
              "\n",
              "<svg xmlns=\"http://www.w3.org/2000/svg\" height=\"24px\"viewBox=\"0 0 24 24\"\n",
              "     width=\"24px\">\n",
              "    <g>\n",
              "        <path d=\"M19 3H5c-1.1 0-2 .9-2 2v14c0 1.1.9 2 2 2h14c1.1 0 2-.9 2-2V5c0-1.1-.9-2-2-2zM9 17H7v-7h2v7zm4 0h-2V7h2v10zm4 0h-2v-4h2v4z\"/>\n",
              "    </g>\n",
              "</svg>\n",
              "  </button>\n",
              "\n",
              "<style>\n",
              "  .colab-df-quickchart {\n",
              "      --bg-color: #E8F0FE;\n",
              "      --fill-color: #1967D2;\n",
              "      --hover-bg-color: #E2EBFA;\n",
              "      --hover-fill-color: #174EA6;\n",
              "      --disabled-fill-color: #AAA;\n",
              "      --disabled-bg-color: #DDD;\n",
              "  }\n",
              "\n",
              "  [theme=dark] .colab-df-quickchart {\n",
              "      --bg-color: #3B4455;\n",
              "      --fill-color: #D2E3FC;\n",
              "      --hover-bg-color: #434B5C;\n",
              "      --hover-fill-color: #FFFFFF;\n",
              "      --disabled-bg-color: #3B4455;\n",
              "      --disabled-fill-color: #666;\n",
              "  }\n",
              "\n",
              "  .colab-df-quickchart {\n",
              "    background-color: var(--bg-color);\n",
              "    border: none;\n",
              "    border-radius: 50%;\n",
              "    cursor: pointer;\n",
              "    display: none;\n",
              "    fill: var(--fill-color);\n",
              "    height: 32px;\n",
              "    padding: 0;\n",
              "    width: 32px;\n",
              "  }\n",
              "\n",
              "  .colab-df-quickchart:hover {\n",
              "    background-color: var(--hover-bg-color);\n",
              "    box-shadow: 0 1px 2px rgba(60, 64, 67, 0.3), 0 1px 3px 1px rgba(60, 64, 67, 0.15);\n",
              "    fill: var(--button-hover-fill-color);\n",
              "  }\n",
              "\n",
              "  .colab-df-quickchart-complete:disabled,\n",
              "  .colab-df-quickchart-complete:disabled:hover {\n",
              "    background-color: var(--disabled-bg-color);\n",
              "    fill: var(--disabled-fill-color);\n",
              "    box-shadow: none;\n",
              "  }\n",
              "\n",
              "  .colab-df-spinner {\n",
              "    border: 2px solid var(--fill-color);\n",
              "    border-color: transparent;\n",
              "    border-bottom-color: var(--fill-color);\n",
              "    animation:\n",
              "      spin 1s steps(1) infinite;\n",
              "  }\n",
              "\n",
              "  @keyframes spin {\n",
              "    0% {\n",
              "      border-color: transparent;\n",
              "      border-bottom-color: var(--fill-color);\n",
              "      border-left-color: var(--fill-color);\n",
              "    }\n",
              "    20% {\n",
              "      border-color: transparent;\n",
              "      border-left-color: var(--fill-color);\n",
              "      border-top-color: var(--fill-color);\n",
              "    }\n",
              "    30% {\n",
              "      border-color: transparent;\n",
              "      border-left-color: var(--fill-color);\n",
              "      border-top-color: var(--fill-color);\n",
              "      border-right-color: var(--fill-color);\n",
              "    }\n",
              "    40% {\n",
              "      border-color: transparent;\n",
              "      border-right-color: var(--fill-color);\n",
              "      border-top-color: var(--fill-color);\n",
              "    }\n",
              "    60% {\n",
              "      border-color: transparent;\n",
              "      border-right-color: var(--fill-color);\n",
              "    }\n",
              "    80% {\n",
              "      border-color: transparent;\n",
              "      border-right-color: var(--fill-color);\n",
              "      border-bottom-color: var(--fill-color);\n",
              "    }\n",
              "    90% {\n",
              "      border-color: transparent;\n",
              "      border-bottom-color: var(--fill-color);\n",
              "    }\n",
              "  }\n",
              "</style>\n",
              "\n",
              "  <script>\n",
              "    async function quickchart(key) {\n",
              "      const quickchartButtonEl =\n",
              "        document.querySelector('#' + key + ' button');\n",
              "      quickchartButtonEl.disabled = true;  // To prevent multiple clicks.\n",
              "      quickchartButtonEl.classList.add('colab-df-spinner');\n",
              "      try {\n",
              "        const charts = await google.colab.kernel.invokeFunction(\n",
              "            'suggestCharts', [key], {});\n",
              "      } catch (error) {\n",
              "        console.error('Error during call to suggestCharts:', error);\n",
              "      }\n",
              "      quickchartButtonEl.classList.remove('colab-df-spinner');\n",
              "      quickchartButtonEl.classList.add('colab-df-quickchart-complete');\n",
              "    }\n",
              "    (() => {\n",
              "      let quickchartButtonEl =\n",
              "        document.querySelector('#df-b4cb55bb-d8d3-46c8-96bd-8198d8f2a678 button');\n",
              "      quickchartButtonEl.style.display =\n",
              "        google.colab.kernel.accessAllowed ? 'block' : 'none';\n",
              "    })();\n",
              "  </script>\n",
              "</div>\n",
              "    </div>\n",
              "  </div>\n"
            ],
            "application/vnd.google.colaboratory.intrinsic+json": {
              "type": "dataframe",
              "variable_name": "df",
              "summary": "{\n  \"name\": \"df\",\n  \"rows\": 100000,\n  \"fields\": [\n    {\n      \"column\": \"gender\",\n      \"properties\": {\n        \"dtype\": \"category\",\n        \"samples\": [\n          \"Female\",\n          \"Male\",\n          \"Other\"\n        ],\n        \"num_unique_values\": 3,\n        \"semantic_type\": \"\",\n        \"description\": \"\"\n      }\n    },\n    {\n      \"column\": \"age\",\n      \"properties\": {\n        \"dtype\": \"number\",\n        \"std\": 22.516839871617023,\n        \"min\": 0.08,\n        \"max\": 80.0,\n        \"samples\": [\n          29.0,\n          39.0,\n          16.0\n        ],\n        \"num_unique_values\": 102,\n        \"semantic_type\": \"\",\n        \"description\": \"\"\n      }\n    },\n    {\n      \"column\": \"hypertension\",\n      \"properties\": {\n        \"dtype\": \"number\",\n        \"std\": 0,\n        \"min\": 0,\n        \"max\": 1,\n        \"samples\": [\n          1,\n          0\n        ],\n        \"num_unique_values\": 2,\n        \"semantic_type\": \"\",\n        \"description\": \"\"\n      }\n    },\n    {\n      \"column\": \"heart_disease\",\n      \"properties\": {\n        \"dtype\": \"number\",\n        \"std\": 0,\n        \"min\": 0,\n        \"max\": 1,\n        \"samples\": [\n          0,\n          1\n        ],\n        \"num_unique_values\": 2,\n        \"semantic_type\": \"\",\n        \"description\": \"\"\n      }\n    },\n    {\n      \"column\": \"smoking_history\",\n      \"properties\": {\n        \"dtype\": \"category\",\n        \"samples\": [\n          \"never\",\n          \"No Info\"\n        ],\n        \"num_unique_values\": 6,\n        \"semantic_type\": \"\",\n        \"description\": \"\"\n      }\n    },\n    {\n      \"column\": \"bmi\",\n      \"properties\": {\n        \"dtype\": \"number\",\n        \"std\": 6.636783416648369,\n        \"min\": 10.01,\n        \"max\": 95.69,\n        \"samples\": [\n          53.27,\n          32.33\n        ],\n        \"num_unique_values\": 4247,\n        \"semantic_type\": \"\",\n        \"description\": \"\"\n      }\n    },\n    {\n      \"column\": \"HbA1c_level\",\n      \"properties\": {\n        \"dtype\": \"number\",\n        \"std\": 1.0706720918835437,\n        \"min\": 3.5,\n        \"max\": 9.0,\n        \"samples\": [\n          6.6,\n          5.7\n        ],\n        \"num_unique_values\": 18,\n        \"semantic_type\": \"\",\n        \"description\": \"\"\n      }\n    },\n    {\n      \"column\": \"blood_glucose_level\",\n      \"properties\": {\n        \"dtype\": \"number\",\n        \"std\": 40,\n        \"min\": 80,\n        \"max\": 300,\n        \"samples\": [\n          140,\n          80\n        ],\n        \"num_unique_values\": 18,\n        \"semantic_type\": \"\",\n        \"description\": \"\"\n      }\n    },\n    {\n      \"column\": \"diabetes\",\n      \"properties\": {\n        \"dtype\": \"number\",\n        \"std\": 0,\n        \"min\": 0,\n        \"max\": 1,\n        \"samples\": [\n          1,\n          0\n        ],\n        \"num_unique_values\": 2,\n        \"semantic_type\": \"\",\n        \"description\": \"\"\n      }\n    }\n  ]\n}"
            }
          },
          "metadata": {},
          "execution_count": 2
        }
      ],
      "source": [
        "# Loading the dataset\n",
        "df = pd.read_csv('diabetes_prediction_dataset.csv')\n",
        "df.head()"
      ]
    },
    {
      "cell_type": "code",
      "source": [
        "data['smoking_history'].value_counts()"
      ],
      "metadata": {
        "colab": {
          "base_uri": "https://localhost:8080/"
        },
        "id": "p6u5mS1uHDE2",
        "outputId": "35b60a2c-2acb-47ad-a390-29323e9da7b0"
      },
      "id": "p6u5mS1uHDE2",
      "execution_count": 63,
      "outputs": [
        {
          "output_type": "execute_result",
          "data": {
            "text/plain": [
              "No Info        35816\n",
              "never          35095\n",
              "former          9352\n",
              "current         9286\n",
              "not current     6447\n",
              "ever            4004\n",
              "Name: smoking_history, dtype: int64"
            ]
          },
          "metadata": {},
          "execution_count": 63
        }
      ]
    },
    {
      "cell_type": "code",
      "source": [
        "# Showing the information of the dataset\n",
        "df.info()"
      ],
      "metadata": {
        "colab": {
          "base_uri": "https://localhost:8080/"
        },
        "id": "R56GreBTqbI5",
        "outputId": "8c9d4e66-b79d-4764-8e7b-6c7ef4cfad42"
      },
      "id": "R56GreBTqbI5",
      "execution_count": 3,
      "outputs": [
        {
          "output_type": "stream",
          "name": "stdout",
          "text": [
            "<class 'pandas.core.frame.DataFrame'>\n",
            "RangeIndex: 100000 entries, 0 to 99999\n",
            "Data columns (total 9 columns):\n",
            " #   Column               Non-Null Count   Dtype  \n",
            "---  ------               --------------   -----  \n",
            " 0   gender               100000 non-null  object \n",
            " 1   age                  100000 non-null  float64\n",
            " 2   hypertension         100000 non-null  int64  \n",
            " 3   heart_disease        100000 non-null  int64  \n",
            " 4   smoking_history      100000 non-null  object \n",
            " 5   bmi                  100000 non-null  float64\n",
            " 6   HbA1c_level          100000 non-null  float64\n",
            " 7   blood_glucose_level  100000 non-null  int64  \n",
            " 8   diabetes             100000 non-null  int64  \n",
            "dtypes: float64(3), int64(4), object(2)\n",
            "memory usage: 6.9+ MB\n"
          ]
        }
      ]
    },
    {
      "cell_type": "markdown",
      "source": [
        "**df.info()** gives information about the dataset such as the number of rows and columns, the data types of each column, and the number of missing values in each column."
      ],
      "metadata": {
        "id": "CocAyo3YsobD"
      },
      "id": "CocAyo3YsobD"
    },
    {
      "cell_type": "code",
      "execution_count": 4,
      "id": "c7ad9bdb",
      "metadata": {
        "execution": {
          "iopub.execute_input": "2023-05-15T16:03:14.389226Z",
          "iopub.status.busy": "2023-05-15T16:03:14.388508Z",
          "iopub.status.idle": "2023-05-15T16:03:14.457129Z",
          "shell.execute_reply": "2023-05-15T16:03:14.455841Z"
        },
        "papermill": {
          "duration": 0.222107,
          "end_time": "2023-05-15T16:03:14.459892",
          "exception": false,
          "start_time": "2023-05-15T16:03:14.237785",
          "status": "completed"
        },
        "tags": [],
        "colab": {
          "base_uri": "https://localhost:8080/",
          "height": 269
        },
        "id": "c7ad9bdb",
        "outputId": "9bc00aeb-14c3-4bf6-fd53-2f0ba3d1143a"
      },
      "outputs": [
        {
          "output_type": "execute_result",
          "data": {
            "text/plain": [
              "                        count        mean        std    min     25%     50%  \\\n",
              "age                  100000.0   41.885856  22.516840   0.08   24.00   43.00   \n",
              "hypertension         100000.0    0.074850   0.263150   0.00    0.00    0.00   \n",
              "heart_disease        100000.0    0.039420   0.194593   0.00    0.00    0.00   \n",
              "bmi                  100000.0   27.320767   6.636783  10.01   23.63   27.32   \n",
              "HbA1c_level          100000.0    5.527507   1.070672   3.50    4.80    5.80   \n",
              "blood_glucose_level  100000.0  138.058060  40.708136  80.00  100.00  140.00   \n",
              "diabetes             100000.0    0.085000   0.278883   0.00    0.00    0.00   \n",
              "\n",
              "                        75%     max  \n",
              "age                   60.00   80.00  \n",
              "hypertension           0.00    1.00  \n",
              "heart_disease          0.00    1.00  \n",
              "bmi                   29.58   95.69  \n",
              "HbA1c_level            6.20    9.00  \n",
              "blood_glucose_level  159.00  300.00  \n",
              "diabetes               0.00    1.00  "
            ],
            "text/html": [
              "\n",
              "  <div id=\"df-85dafccb-46b9-450c-8771-8fc2b6d1ca0c\" class=\"colab-df-container\">\n",
              "    <div>\n",
              "<style scoped>\n",
              "    .dataframe tbody tr th:only-of-type {\n",
              "        vertical-align: middle;\n",
              "    }\n",
              "\n",
              "    .dataframe tbody tr th {\n",
              "        vertical-align: top;\n",
              "    }\n",
              "\n",
              "    .dataframe thead th {\n",
              "        text-align: right;\n",
              "    }\n",
              "</style>\n",
              "<table border=\"1\" class=\"dataframe\">\n",
              "  <thead>\n",
              "    <tr style=\"text-align: right;\">\n",
              "      <th></th>\n",
              "      <th>count</th>\n",
              "      <th>mean</th>\n",
              "      <th>std</th>\n",
              "      <th>min</th>\n",
              "      <th>25%</th>\n",
              "      <th>50%</th>\n",
              "      <th>75%</th>\n",
              "      <th>max</th>\n",
              "    </tr>\n",
              "  </thead>\n",
              "  <tbody>\n",
              "    <tr>\n",
              "      <th>age</th>\n",
              "      <td>100000.0</td>\n",
              "      <td>41.885856</td>\n",
              "      <td>22.516840</td>\n",
              "      <td>0.08</td>\n",
              "      <td>24.00</td>\n",
              "      <td>43.00</td>\n",
              "      <td>60.00</td>\n",
              "      <td>80.00</td>\n",
              "    </tr>\n",
              "    <tr>\n",
              "      <th>hypertension</th>\n",
              "      <td>100000.0</td>\n",
              "      <td>0.074850</td>\n",
              "      <td>0.263150</td>\n",
              "      <td>0.00</td>\n",
              "      <td>0.00</td>\n",
              "      <td>0.00</td>\n",
              "      <td>0.00</td>\n",
              "      <td>1.00</td>\n",
              "    </tr>\n",
              "    <tr>\n",
              "      <th>heart_disease</th>\n",
              "      <td>100000.0</td>\n",
              "      <td>0.039420</td>\n",
              "      <td>0.194593</td>\n",
              "      <td>0.00</td>\n",
              "      <td>0.00</td>\n",
              "      <td>0.00</td>\n",
              "      <td>0.00</td>\n",
              "      <td>1.00</td>\n",
              "    </tr>\n",
              "    <tr>\n",
              "      <th>bmi</th>\n",
              "      <td>100000.0</td>\n",
              "      <td>27.320767</td>\n",
              "      <td>6.636783</td>\n",
              "      <td>10.01</td>\n",
              "      <td>23.63</td>\n",
              "      <td>27.32</td>\n",
              "      <td>29.58</td>\n",
              "      <td>95.69</td>\n",
              "    </tr>\n",
              "    <tr>\n",
              "      <th>HbA1c_level</th>\n",
              "      <td>100000.0</td>\n",
              "      <td>5.527507</td>\n",
              "      <td>1.070672</td>\n",
              "      <td>3.50</td>\n",
              "      <td>4.80</td>\n",
              "      <td>5.80</td>\n",
              "      <td>6.20</td>\n",
              "      <td>9.00</td>\n",
              "    </tr>\n",
              "    <tr>\n",
              "      <th>blood_glucose_level</th>\n",
              "      <td>100000.0</td>\n",
              "      <td>138.058060</td>\n",
              "      <td>40.708136</td>\n",
              "      <td>80.00</td>\n",
              "      <td>100.00</td>\n",
              "      <td>140.00</td>\n",
              "      <td>159.00</td>\n",
              "      <td>300.00</td>\n",
              "    </tr>\n",
              "    <tr>\n",
              "      <th>diabetes</th>\n",
              "      <td>100000.0</td>\n",
              "      <td>0.085000</td>\n",
              "      <td>0.278883</td>\n",
              "      <td>0.00</td>\n",
              "      <td>0.00</td>\n",
              "      <td>0.00</td>\n",
              "      <td>0.00</td>\n",
              "      <td>1.00</td>\n",
              "    </tr>\n",
              "  </tbody>\n",
              "</table>\n",
              "</div>\n",
              "    <div class=\"colab-df-buttons\">\n",
              "\n",
              "  <div class=\"colab-df-container\">\n",
              "    <button class=\"colab-df-convert\" onclick=\"convertToInteractive('df-85dafccb-46b9-450c-8771-8fc2b6d1ca0c')\"\n",
              "            title=\"Convert this dataframe to an interactive table.\"\n",
              "            style=\"display:none;\">\n",
              "\n",
              "  <svg xmlns=\"http://www.w3.org/2000/svg\" height=\"24px\" viewBox=\"0 -960 960 960\">\n",
              "    <path d=\"M120-120v-720h720v720H120Zm60-500h600v-160H180v160Zm220 220h160v-160H400v160Zm0 220h160v-160H400v160ZM180-400h160v-160H180v160Zm440 0h160v-160H620v160ZM180-180h160v-160H180v160Zm440 0h160v-160H620v160Z\"/>\n",
              "  </svg>\n",
              "    </button>\n",
              "\n",
              "  <style>\n",
              "    .colab-df-container {\n",
              "      display:flex;\n",
              "      gap: 12px;\n",
              "    }\n",
              "\n",
              "    .colab-df-convert {\n",
              "      background-color: #E8F0FE;\n",
              "      border: none;\n",
              "      border-radius: 50%;\n",
              "      cursor: pointer;\n",
              "      display: none;\n",
              "      fill: #1967D2;\n",
              "      height: 32px;\n",
              "      padding: 0 0 0 0;\n",
              "      width: 32px;\n",
              "    }\n",
              "\n",
              "    .colab-df-convert:hover {\n",
              "      background-color: #E2EBFA;\n",
              "      box-shadow: 0px 1px 2px rgba(60, 64, 67, 0.3), 0px 1px 3px 1px rgba(60, 64, 67, 0.15);\n",
              "      fill: #174EA6;\n",
              "    }\n",
              "\n",
              "    .colab-df-buttons div {\n",
              "      margin-bottom: 4px;\n",
              "    }\n",
              "\n",
              "    [theme=dark] .colab-df-convert {\n",
              "      background-color: #3B4455;\n",
              "      fill: #D2E3FC;\n",
              "    }\n",
              "\n",
              "    [theme=dark] .colab-df-convert:hover {\n",
              "      background-color: #434B5C;\n",
              "      box-shadow: 0px 1px 3px 1px rgba(0, 0, 0, 0.15);\n",
              "      filter: drop-shadow(0px 1px 2px rgba(0, 0, 0, 0.3));\n",
              "      fill: #FFFFFF;\n",
              "    }\n",
              "  </style>\n",
              "\n",
              "    <script>\n",
              "      const buttonEl =\n",
              "        document.querySelector('#df-85dafccb-46b9-450c-8771-8fc2b6d1ca0c button.colab-df-convert');\n",
              "      buttonEl.style.display =\n",
              "        google.colab.kernel.accessAllowed ? 'block' : 'none';\n",
              "\n",
              "      async function convertToInteractive(key) {\n",
              "        const element = document.querySelector('#df-85dafccb-46b9-450c-8771-8fc2b6d1ca0c');\n",
              "        const dataTable =\n",
              "          await google.colab.kernel.invokeFunction('convertToInteractive',\n",
              "                                                    [key], {});\n",
              "        if (!dataTable) return;\n",
              "\n",
              "        const docLinkHtml = 'Like what you see? Visit the ' +\n",
              "          '<a target=\"_blank\" href=https://colab.research.google.com/notebooks/data_table.ipynb>data table notebook</a>'\n",
              "          + ' to learn more about interactive tables.';\n",
              "        element.innerHTML = '';\n",
              "        dataTable['output_type'] = 'display_data';\n",
              "        await google.colab.output.renderOutput(dataTable, element);\n",
              "        const docLink = document.createElement('div');\n",
              "        docLink.innerHTML = docLinkHtml;\n",
              "        element.appendChild(docLink);\n",
              "      }\n",
              "    </script>\n",
              "  </div>\n",
              "\n",
              "\n",
              "<div id=\"df-815442e7-f00a-4eee-bcf2-74379755158b\">\n",
              "  <button class=\"colab-df-quickchart\" onclick=\"quickchart('df-815442e7-f00a-4eee-bcf2-74379755158b')\"\n",
              "            title=\"Suggest charts\"\n",
              "            style=\"display:none;\">\n",
              "\n",
              "<svg xmlns=\"http://www.w3.org/2000/svg\" height=\"24px\"viewBox=\"0 0 24 24\"\n",
              "     width=\"24px\">\n",
              "    <g>\n",
              "        <path d=\"M19 3H5c-1.1 0-2 .9-2 2v14c0 1.1.9 2 2 2h14c1.1 0 2-.9 2-2V5c0-1.1-.9-2-2-2zM9 17H7v-7h2v7zm4 0h-2V7h2v10zm4 0h-2v-4h2v4z\"/>\n",
              "    </g>\n",
              "</svg>\n",
              "  </button>\n",
              "\n",
              "<style>\n",
              "  .colab-df-quickchart {\n",
              "      --bg-color: #E8F0FE;\n",
              "      --fill-color: #1967D2;\n",
              "      --hover-bg-color: #E2EBFA;\n",
              "      --hover-fill-color: #174EA6;\n",
              "      --disabled-fill-color: #AAA;\n",
              "      --disabled-bg-color: #DDD;\n",
              "  }\n",
              "\n",
              "  [theme=dark] .colab-df-quickchart {\n",
              "      --bg-color: #3B4455;\n",
              "      --fill-color: #D2E3FC;\n",
              "      --hover-bg-color: #434B5C;\n",
              "      --hover-fill-color: #FFFFFF;\n",
              "      --disabled-bg-color: #3B4455;\n",
              "      --disabled-fill-color: #666;\n",
              "  }\n",
              "\n",
              "  .colab-df-quickchart {\n",
              "    background-color: var(--bg-color);\n",
              "    border: none;\n",
              "    border-radius: 50%;\n",
              "    cursor: pointer;\n",
              "    display: none;\n",
              "    fill: var(--fill-color);\n",
              "    height: 32px;\n",
              "    padding: 0;\n",
              "    width: 32px;\n",
              "  }\n",
              "\n",
              "  .colab-df-quickchart:hover {\n",
              "    background-color: var(--hover-bg-color);\n",
              "    box-shadow: 0 1px 2px rgba(60, 64, 67, 0.3), 0 1px 3px 1px rgba(60, 64, 67, 0.15);\n",
              "    fill: var(--button-hover-fill-color);\n",
              "  }\n",
              "\n",
              "  .colab-df-quickchart-complete:disabled,\n",
              "  .colab-df-quickchart-complete:disabled:hover {\n",
              "    background-color: var(--disabled-bg-color);\n",
              "    fill: var(--disabled-fill-color);\n",
              "    box-shadow: none;\n",
              "  }\n",
              "\n",
              "  .colab-df-spinner {\n",
              "    border: 2px solid var(--fill-color);\n",
              "    border-color: transparent;\n",
              "    border-bottom-color: var(--fill-color);\n",
              "    animation:\n",
              "      spin 1s steps(1) infinite;\n",
              "  }\n",
              "\n",
              "  @keyframes spin {\n",
              "    0% {\n",
              "      border-color: transparent;\n",
              "      border-bottom-color: var(--fill-color);\n",
              "      border-left-color: var(--fill-color);\n",
              "    }\n",
              "    20% {\n",
              "      border-color: transparent;\n",
              "      border-left-color: var(--fill-color);\n",
              "      border-top-color: var(--fill-color);\n",
              "    }\n",
              "    30% {\n",
              "      border-color: transparent;\n",
              "      border-left-color: var(--fill-color);\n",
              "      border-top-color: var(--fill-color);\n",
              "      border-right-color: var(--fill-color);\n",
              "    }\n",
              "    40% {\n",
              "      border-color: transparent;\n",
              "      border-right-color: var(--fill-color);\n",
              "      border-top-color: var(--fill-color);\n",
              "    }\n",
              "    60% {\n",
              "      border-color: transparent;\n",
              "      border-right-color: var(--fill-color);\n",
              "    }\n",
              "    80% {\n",
              "      border-color: transparent;\n",
              "      border-right-color: var(--fill-color);\n",
              "      border-bottom-color: var(--fill-color);\n",
              "    }\n",
              "    90% {\n",
              "      border-color: transparent;\n",
              "      border-bottom-color: var(--fill-color);\n",
              "    }\n",
              "  }\n",
              "</style>\n",
              "\n",
              "  <script>\n",
              "    async function quickchart(key) {\n",
              "      const quickchartButtonEl =\n",
              "        document.querySelector('#' + key + ' button');\n",
              "      quickchartButtonEl.disabled = true;  // To prevent multiple clicks.\n",
              "      quickchartButtonEl.classList.add('colab-df-spinner');\n",
              "      try {\n",
              "        const charts = await google.colab.kernel.invokeFunction(\n",
              "            'suggestCharts', [key], {});\n",
              "      } catch (error) {\n",
              "        console.error('Error during call to suggestCharts:', error);\n",
              "      }\n",
              "      quickchartButtonEl.classList.remove('colab-df-spinner');\n",
              "      quickchartButtonEl.classList.add('colab-df-quickchart-complete');\n",
              "    }\n",
              "    (() => {\n",
              "      let quickchartButtonEl =\n",
              "        document.querySelector('#df-815442e7-f00a-4eee-bcf2-74379755158b button');\n",
              "      quickchartButtonEl.style.display =\n",
              "        google.colab.kernel.accessAllowed ? 'block' : 'none';\n",
              "    })();\n",
              "  </script>\n",
              "</div>\n",
              "    </div>\n",
              "  </div>\n"
            ],
            "application/vnd.google.colaboratory.intrinsic+json": {
              "type": "dataframe",
              "summary": "{\n  \"name\": \"df\",\n  \"rows\": 7,\n  \"fields\": [\n    {\n      \"column\": \"count\",\n      \"properties\": {\n        \"dtype\": \"number\",\n        \"std\": 0.0,\n        \"min\": 100000.0,\n        \"max\": 100000.0,\n        \"samples\": [\n          100000.0\n        ],\n        \"num_unique_values\": 1,\n        \"semantic_type\": \"\",\n        \"description\": \"\"\n      }\n    },\n    {\n      \"column\": \"mean\",\n      \"properties\": {\n        \"dtype\": \"number\",\n        \"std\": 50.184125782051744,\n        \"min\": 0.03942,\n        \"max\": 138.05806,\n        \"samples\": [\n          41.885856\n        ],\n        \"num_unique_values\": 7,\n        \"semantic_type\": \"\",\n        \"description\": \"\"\n      }\n    },\n    {\n      \"column\": \"std\",\n      \"properties\": {\n        \"dtype\": \"number\",\n        \"std\": 15.683108835825339,\n        \"min\": 0.1945930169980995,\n        \"max\": 40.708136048704134,\n        \"samples\": [\n          22.516839871617023\n        ],\n        \"num_unique_values\": 7,\n        \"semantic_type\": \"\",\n        \"description\": \"\"\n      }\n    },\n    {\n      \"column\": \"min\",\n      \"properties\": {\n        \"dtype\": \"number\",\n        \"std\": 29.611816897988547,\n        \"min\": 0.0,\n        \"max\": 80.0,\n        \"samples\": [\n          0.0\n        ],\n        \"num_unique_values\": 5,\n        \"semantic_type\": \"\",\n        \"description\": \"\"\n      }\n    },\n    {\n      \"column\": \"25%\",\n      \"properties\": {\n        \"dtype\": \"number\",\n        \"std\": 36.143567365504495,\n        \"min\": 0.0,\n        \"max\": 100.0,\n        \"samples\": [\n          0.0\n        ],\n        \"num_unique_values\": 5,\n        \"semantic_type\": \"\",\n        \"description\": \"\"\n      }\n    },\n    {\n      \"column\": \"50%\",\n      \"properties\": {\n        \"dtype\": \"number\",\n        \"std\": 50.919007209863146,\n        \"min\": 0.0,\n        \"max\": 140.0,\n        \"samples\": [\n          0.0\n        ],\n        \"num_unique_values\": 5,\n        \"semantic_type\": \"\",\n        \"description\": \"\"\n      }\n    },\n    {\n      \"column\": \"75%\",\n      \"properties\": {\n        \"dtype\": \"number\",\n        \"std\": 58.48240809972566,\n        \"min\": 0.0,\n        \"max\": 159.0,\n        \"samples\": [\n          0.0\n        ],\n        \"num_unique_values\": 5,\n        \"semantic_type\": \"\",\n        \"description\": \"\"\n      }\n    },\n    {\n      \"column\": \"max\",\n      \"properties\": {\n        \"dtype\": \"number\",\n        \"std\": 109.28800925383656,\n        \"min\": 1.0,\n        \"max\": 300.0,\n        \"samples\": [\n          1.0\n        ],\n        \"num_unique_values\": 5,\n        \"semantic_type\": \"\",\n        \"description\": \"\"\n      }\n    }\n  ]\n}"
            }
          },
          "metadata": {},
          "execution_count": 4
        }
      ],
      "source": [
        "# Showing the statistical description of the dataset\n",
        "df.describe().T"
      ]
    },
    {
      "cell_type": "markdown",
      "id": "d80ea005",
      "metadata": {
        "papermill": {
          "duration": 0.13536,
          "end_time": "2023-05-15T16:03:14.731525",
          "exception": false,
          "start_time": "2023-05-15T16:03:14.596165",
          "status": "completed"
        },
        "tags": [],
        "id": "d80ea005"
      },
      "source": [
        "**df.describe().T** calculates descriptive statistics for each column of the dataset, transposing the result to display the statistics in tabular format."
      ]
    },
    {
      "cell_type": "code",
      "source": [
        "df['diabetes'].value_counts()"
      ],
      "metadata": {
        "colab": {
          "base_uri": "https://localhost:8080/"
        },
        "id": "WyjVRmjX2ePa",
        "outputId": "e1906510-cbe5-47f4-818f-22735d7604d6"
      },
      "id": "WyjVRmjX2ePa",
      "execution_count": 6,
      "outputs": [
        {
          "output_type": "execute_result",
          "data": {
            "text/plain": [
              "0    91500\n",
              "1     8500\n",
              "Name: diabetes, dtype: int64"
            ]
          },
          "metadata": {},
          "execution_count": 6
        }
      ]
    },
    {
      "cell_type": "markdown",
      "source": [
        "The data is imbalanced, as the number of people who have diabetes (8.5%) is significantly less compared to the number of people who don't have diabetes (91.5%)."
      ],
      "metadata": {
        "id": "0AJBUswr22ad"
      },
      "id": "0AJBUswr22ad"
    },
    {
      "cell_type": "code",
      "source": [
        "df_diabetes_yes= df[df['diabetes']==0]\n",
        "df_diabetes_no = df[df['diabetes']==1]\n",
        "df_undersampling = df_diabetes_yes.sample(df_diabetes_no.shape[0])"
      ],
      "metadata": {
        "colab": {
          "base_uri": "https://localhost:8080/"
        },
        "id": "YVvF-OTd4bVY",
        "outputId": "931c68aa-df8a-4731-adf2-4b06d4914b3e"
      },
      "id": "YVvF-OTd4bVY",
      "execution_count": 15,
      "outputs": [
        {
          "output_type": "execute_result",
          "data": {
            "text/plain": [
              "0    8500\n",
              "Name: diabetes, dtype: int64"
            ]
          },
          "metadata": {},
          "execution_count": 15
        }
      ]
    },
    {
      "cell_type": "code",
      "source": [
        "df = pd.concat([df_undersampling, df_diabetes_no], axis=0)\n",
        "df['diabetes'].value_counts()"
      ],
      "metadata": {
        "colab": {
          "base_uri": "https://localhost:8080/"
        },
        "id": "we27z5CU6e_8",
        "outputId": "4cd3272f-e1d3-41f3-d3e5-7b12789bef1d"
      },
      "id": "we27z5CU6e_8",
      "execution_count": 17,
      "outputs": [
        {
          "output_type": "execute_result",
          "data": {
            "text/plain": [
              "0    8500\n",
              "1    8500\n",
              "Name: diabetes, dtype: int64"
            ]
          },
          "metadata": {},
          "execution_count": 17
        }
      ]
    },
    {
      "cell_type": "markdown",
      "source": [
        "In this part of code we decided to down sample the data to have equal number of people who have diabetes and people who don't have diabetes."
      ],
      "metadata": {
        "id": "EpzsnUQZ6m-m"
      },
      "id": "EpzsnUQZ6m-m"
    },
    {
      "cell_type": "code",
      "source": [
        "# Label encoding the 'gender' and 'smoking_history' columns\n",
        "df[['gender', 'smoking_history']] = df[['gender', 'smoking_history']].apply(LabelEncoder().fit_transform)"
      ],
      "metadata": {
        "id": "qUmT12kjqIcv"
      },
      "id": "qUmT12kjqIcv",
      "execution_count": 18,
      "outputs": []
    },
    {
      "cell_type": "markdown",
      "id": "e5fe3454",
      "metadata": {
        "papermill": {
          "duration": 0.140102,
          "end_time": "2023-05-15T16:03:17.581817",
          "exception": false,
          "start_time": "2023-05-15T16:03:17.441715",
          "status": "completed"
        },
        "tags": [],
        "id": "e5fe3454"
      },
      "source": [
        "Here, we are using the LabelEncoder to transform the categorical columns into numerical ones. LabelEncoder is a class in the sklearn.preprocessing module that transforms categorical labels into numbers. This transformation is necessary because many machine learning algorithms only work with numerical data. In the example, we are turning the 'gender' and 'smoking_history' columns of the df dataframe into numerical values."
      ]
    },
    {
      "cell_type": "code",
      "execution_count": 19,
      "id": "9889428f",
      "metadata": {
        "execution": {
          "iopub.execute_input": "2023-05-15T16:03:18.405612Z",
          "iopub.status.busy": "2023-05-15T16:03:18.405013Z",
          "iopub.status.idle": "2023-05-15T16:03:18.430191Z",
          "shell.execute_reply": "2023-05-15T16:03:18.428986Z"
        },
        "papermill": {
          "duration": 0.167844,
          "end_time": "2023-05-15T16:03:18.433144",
          "exception": false,
          "start_time": "2023-05-15T16:03:18.265300",
          "status": "completed"
        },
        "tags": [],
        "id": "9889428f"
      },
      "outputs": [],
      "source": [
        "# Splitting the dataset into features and target\n",
        "X = df.drop('diabetes', axis = 1)\n",
        "y = df['diabetes']\n",
        "\n",
        "X_train, X_test, y_train, y_test = train_test_split(X, y, test_size = 0.2, random_state = 0)"
      ]
    },
    {
      "cell_type": "markdown",
      "id": "7072f2ae",
      "metadata": {
        "papermill": {
          "duration": 0.136742,
          "end_time": "2023-05-15T16:03:18.705717",
          "exception": false,
          "start_time": "2023-05-15T16:03:18.568975",
          "status": "completed"
        },
        "tags": [],
        "id": "7072f2ae"
      },
      "source": [
        "Here, we are splitting the data into training and testing sets using the train_test_split function of the sklearn.model_selection module. This function splits the data at a specific ratio (in this case, 80% for training and 20% for testing) and ensures that the split is done randomly, using the value of random_state to control randomness.\n",
        "\n",
        "Set X contains all the columns of the dataframe, except the 'diabetes' column, which is the target variable we want to predict. Set y contains only the 'diabetes' column. The sets xtrain and ytrain are used to train the model, while xtest and ytest are used to evaluate the performance of the model."
      ]
    },
    {
      "cell_type": "code",
      "execution_count": 20,
      "id": "e8f76e3c",
      "metadata": {
        "execution": {
          "iopub.execute_input": "2023-05-15T16:03:19.531563Z",
          "iopub.status.busy": "2023-05-15T16:03:19.530447Z",
          "iopub.status.idle": "2023-05-15T16:03:19.555835Z",
          "shell.execute_reply": "2023-05-15T16:03:19.554649Z"
        },
        "papermill": {
          "duration": 0.167719,
          "end_time": "2023-05-15T16:03:19.558455",
          "exception": false,
          "start_time": "2023-05-15T16:03:19.390736",
          "status": "completed"
        },
        "tags": [],
        "id": "e8f76e3c"
      },
      "outputs": [],
      "source": [
        "# Standardizing the data before training\n",
        "scaler = StandardScaler()\n",
        "X_train = scaler.fit_transform(X_train)\n",
        "X_test = scaler.transform(X_test)"
      ]
    },
    {
      "cell_type": "markdown",
      "id": "29259c3b",
      "metadata": {
        "papermill": {
          "duration": 0.134924,
          "end_time": "2023-05-15T16:03:19.828676",
          "exception": false,
          "start_time": "2023-05-15T16:03:19.693752",
          "status": "completed"
        },
        "tags": [],
        "id": "29259c3b"
      },
      "source": [
        "Here, we are using the StandardScaler from the sklearn.preprocessing module to standardize numerical data. Patterning is a common technique when preparing data for training machine learning models. It transforms the data so that the mean is 0 and the standard deviation is 1, ensuring that all features have the same scale. This is important because many machine learning algorithms are sensitive to the scale of the data.\n",
        "\n",
        "First, we create an instance of StandardScaler called scaler. We then use the fit_transform method to compute the standardization statistics (mean and standard deviation) from the xtrain training set, and then apply the transform to the training and test sets using the transform method. This ensures that the same standardization is applied to both sets, using the statistics computed on the training set."
      ]
    },
    {
      "cell_type": "code",
      "execution_count": 27,
      "id": "13f8b479",
      "metadata": {
        "execution": {
          "iopub.execute_input": "2023-05-15T16:03:20.637504Z",
          "iopub.status.busy": "2023-05-15T16:03:20.637112Z",
          "iopub.status.idle": "2023-05-15T16:03:20.854552Z",
          "shell.execute_reply": "2023-05-15T16:03:20.853568Z"
        },
        "papermill": {
          "duration": 0.355459,
          "end_time": "2023-05-15T16:03:20.857245",
          "exception": false,
          "start_time": "2023-05-15T16:03:20.501786",
          "status": "completed"
        },
        "tags": [],
        "id": "13f8b479"
      },
      "outputs": [],
      "source": [
        "# Building the model using Keras sequential API\n",
        "model = Sequential([\n",
        "    Dense(32, activation = 'relu', input_shape = (X_train.shape[1],)),\n",
        "    Dense(16, activation = 'relu'),\n",
        "    Dense(1, activation = 'sigmoid')\n",
        "])"
      ]
    },
    {
      "cell_type": "markdown",
      "id": "08ccd773",
      "metadata": {
        "papermill": {
          "duration": 0.137852,
          "end_time": "2023-05-15T16:03:21.132714",
          "exception": false,
          "start_time": "2023-05-15T16:03:20.994862",
          "status": "completed"
        },
        "tags": [],
        "id": "08ccd773"
      },
      "source": [
        "In this piece of code, we are creating a neural network model using TensorFlow. The model is defined as a sequence of stacked layers. Here is an explanation of each part:\n",
        "\n",
        "- **Dense(32, activation='relu', input_shape=(xtrain.shape[1],)):** This line creates a dense layer with 32 units (neurons) and ReLU activation function. The layer receives as input a shape tensor (xtrain.shape[1],), which corresponds to the format of the input data of the training set. This layer is the first layer of the model, so we specify the input format.\n",
        "\n",
        "\n",
        "- **Dropout(0.1):** This line adds a dropout layer with a rate of 0.1. Dropout is a regularization technique that helps prevent overfitting by randomly deactivating a fraction of neurons during training.\n",
        "\n",
        "\n",
        "- **Dense(32, activation='relu'):** This line creates another dense layer with 32 units and ReLU activation function. This is the second layer of the model, no need to specify the input format as the output from the previous layer is used as input.\n",
        "\n",
        "\n",
        "- **Dropout(0.5):** This line adds a second dropout layer with a rate of 0.5.\n",
        "\n",
        "\n",
        "- **Dense(1, activation='sigmoid'):** This line creates the output layer of the model with a single neuron and sigmoid activation function. This layer is responsible for producing the binary output of the model (0 or 1), indicating the target class."
      ]
    },
    {
      "cell_type": "code",
      "execution_count": 28,
      "id": "e974af0f",
      "metadata": {
        "execution": {
          "iopub.execute_input": "2023-05-15T16:03:21.959430Z",
          "iopub.status.busy": "2023-05-15T16:03:21.958996Z",
          "iopub.status.idle": "2023-05-15T16:03:21.999316Z",
          "shell.execute_reply": "2023-05-15T16:03:21.997941Z"
        },
        "papermill": {
          "duration": 0.183223,
          "end_time": "2023-05-15T16:03:22.002469",
          "exception": false,
          "start_time": "2023-05-15T16:03:21.819246",
          "status": "completed"
        },
        "tags": [],
        "colab": {
          "base_uri": "https://localhost:8080/"
        },
        "id": "e974af0f",
        "outputId": "5b721697-21d0-4b16-c698-e7a677a2d3fe"
      },
      "outputs": [
        {
          "output_type": "stream",
          "name": "stdout",
          "text": [
            "Model: \"sequential_2\"\n",
            "_________________________________________________________________\n",
            " Layer (type)                Output Shape              Param #   \n",
            "=================================================================\n",
            " dense_6 (Dense)             (None, 32)                288       \n",
            "                                                                 \n",
            " dense_7 (Dense)             (None, 16)                528       \n",
            "                                                                 \n",
            " dense_8 (Dense)             (None, 1)                 17        \n",
            "                                                                 \n",
            "=================================================================\n",
            "Total params: 833 (3.25 KB)\n",
            "Trainable params: 833 (3.25 KB)\n",
            "Non-trainable params: 0 (0.00 Byte)\n",
            "_________________________________________________________________\n"
          ]
        }
      ],
      "source": [
        "# Compiling the model using 'adam' optimizer and 'binary_crossentropy' loss function\n",
        "model.compile(loss = 'binary_crossentropy', optimizer = 'adam', metrics = ['accuracy'])\n",
        "model.summary()"
      ]
    },
    {
      "cell_type": "markdown",
      "id": "595995e8",
      "metadata": {
        "papermill": {
          "duration": 0.138696,
          "end_time": "2023-05-15T16:03:22.281019",
          "exception": false,
          "start_time": "2023-05-15T16:03:22.142323",
          "status": "completed"
        },
        "tags": [],
        "id": "595995e8"
      },
      "source": [
        "After creating the model, we need to compile it before training it. On the first line, we are setting the model build options:\n",
        "\n",
        "- **loss='binary_crossentropy':** We use the binary cross entropy as the loss function. This loss function is suitable for binary classification problems, where we are trying to predict one of two classes.\n",
        "\n",
        "\n",
        "- **optimizer='adam':** The Adam optimizer will be used to adjust model weights during training. Adam is a popular optimization algorithm that relies on stochastic gradient descent methods.\n",
        "\n",
        "\n",
        "- **metrics=['accuracy']:** In addition to the loss function, we also want to track the accuracy metric during model training and evaluation. Accuracy is a common measure for evaluating classification model performance.\n",
        "\n",
        "On the second line, we are printing a model summary, which displays the architecture of the neural network in tabular form. The summary includes information about the input and output format of each layer, the total number of trainable parameters, and the overall model summary."
      ]
    },
    {
      "cell_type": "code",
      "execution_count": 29,
      "id": "e356f42c",
      "metadata": {
        "execution": {
          "iopub.execute_input": "2023-05-15T16:03:23.097329Z",
          "iopub.status.busy": "2023-05-15T16:03:23.096888Z",
          "iopub.status.idle": "2023-05-15T16:07:46.179808Z",
          "shell.execute_reply": "2023-05-15T16:07:46.178218Z"
        },
        "papermill": {
          "duration": 263.779632,
          "end_time": "2023-05-15T16:07:46.739652",
          "exception": false,
          "start_time": "2023-05-15T16:03:22.960020",
          "status": "completed"
        },
        "tags": [],
        "colab": {
          "base_uri": "https://localhost:8080/"
        },
        "id": "e356f42c",
        "outputId": "8ff10faa-323e-40d7-ae12-c6ed78d6ebd2"
      },
      "outputs": [
        {
          "output_type": "stream",
          "name": "stdout",
          "text": [
            "Epoch 1/20\n",
            "850/850 [==============================] - 3s 2ms/step - loss: 0.2999 - accuracy: 0.8647 - val_loss: 0.2508 - val_accuracy: 0.8771\n",
            "Epoch 2/20\n",
            "850/850 [==============================] - 2s 3ms/step - loss: 0.2493 - accuracy: 0.8843 - val_loss: 0.2451 - val_accuracy: 0.8824\n",
            "Epoch 3/20\n",
            "850/850 [==============================] - 2s 2ms/step - loss: 0.2443 - accuracy: 0.8863 - val_loss: 0.2430 - val_accuracy: 0.8897\n",
            "Epoch 4/20\n",
            "850/850 [==============================] - 2s 2ms/step - loss: 0.2394 - accuracy: 0.8882 - val_loss: 0.2362 - val_accuracy: 0.8915\n",
            "Epoch 5/20\n",
            "850/850 [==============================] - 2s 2ms/step - loss: 0.2338 - accuracy: 0.8905 - val_loss: 0.2317 - val_accuracy: 0.8938\n",
            "Epoch 6/20\n",
            "850/850 [==============================] - 2s 2ms/step - loss: 0.2258 - accuracy: 0.8940 - val_loss: 0.2253 - val_accuracy: 0.8909\n",
            "Epoch 7/20\n",
            "850/850 [==============================] - 2s 2ms/step - loss: 0.2180 - accuracy: 0.8959 - val_loss: 0.2149 - val_accuracy: 0.8950\n",
            "Epoch 8/20\n",
            "850/850 [==============================] - 2s 2ms/step - loss: 0.2099 - accuracy: 0.8990 - val_loss: 0.2097 - val_accuracy: 0.8985\n",
            "Epoch 9/20\n",
            "850/850 [==============================] - 3s 3ms/step - loss: 0.2044 - accuracy: 0.9015 - val_loss: 0.2041 - val_accuracy: 0.9026\n",
            "Epoch 10/20\n",
            "850/850 [==============================] - 2s 2ms/step - loss: 0.2000 - accuracy: 0.9033 - val_loss: 0.2003 - val_accuracy: 0.9047\n",
            "Epoch 11/20\n",
            "850/850 [==============================] - 2s 2ms/step - loss: 0.1968 - accuracy: 0.9052 - val_loss: 0.1975 - val_accuracy: 0.9044\n",
            "Epoch 12/20\n",
            "850/850 [==============================] - 2s 2ms/step - loss: 0.1950 - accuracy: 0.9043 - val_loss: 0.1999 - val_accuracy: 0.9041\n",
            "Epoch 13/20\n",
            "850/850 [==============================] - 2s 2ms/step - loss: 0.1923 - accuracy: 0.9067 - val_loss: 0.1986 - val_accuracy: 0.9015\n",
            "Epoch 14/20\n",
            "850/850 [==============================] - 2s 2ms/step - loss: 0.1909 - accuracy: 0.9068 - val_loss: 0.1942 - val_accuracy: 0.9041\n",
            "Epoch 15/20\n",
            "850/850 [==============================] - 2s 3ms/step - loss: 0.1898 - accuracy: 0.9079 - val_loss: 0.1958 - val_accuracy: 0.9059\n",
            "Epoch 16/20\n",
            "850/850 [==============================] - 2s 2ms/step - loss: 0.1893 - accuracy: 0.9057 - val_loss: 0.1930 - val_accuracy: 0.9044\n",
            "Epoch 17/20\n",
            "850/850 [==============================] - 2s 2ms/step - loss: 0.1874 - accuracy: 0.9083 - val_loss: 0.1937 - val_accuracy: 0.9029\n",
            "Epoch 18/20\n",
            "850/850 [==============================] - 2s 2ms/step - loss: 0.1866 - accuracy: 0.9085 - val_loss: 0.1950 - val_accuracy: 0.9041\n",
            "Epoch 19/20\n",
            "850/850 [==============================] - 2s 2ms/step - loss: 0.1862 - accuracy: 0.9093 - val_loss: 0.1919 - val_accuracy: 0.9050\n",
            "Epoch 20/20\n",
            "850/850 [==============================] - 2s 2ms/step - loss: 0.1852 - accuracy: 0.9093 - val_loss: 0.1917 - val_accuracy: 0.9071\n"
          ]
        },
        {
          "output_type": "execute_result",
          "data": {
            "text/plain": [
              "<keras.src.callbacks.History at 0x7b346fb19420>"
            ]
          },
          "metadata": {},
          "execution_count": 29
        }
      ],
      "source": [
        "# Training the model with 20 epochs\n",
        "model.fit(X_train, y_train, epochs = 20, batch_size = 16, validation_data = (X_test, y_test))"
      ]
    },
    {
      "cell_type": "markdown",
      "id": "ca87ef29",
      "metadata": {
        "papermill": {
          "duration": 0.481117,
          "end_time": "2023-05-15T16:07:47.700487",
          "exception": false,
          "start_time": "2023-05-15T16:07:47.219370",
          "status": "completed"
        },
        "tags": [],
        "id": "ca87ef29"
      },
      "source": [
        "In this part of the code, we are training the neural network model. Here is an explanation of the different parts:\n",
        "\n",
        "- **xtrain** and **ytrain** are the training data, where xtrain contains the resources (inputs) and ytrain contains the corresponding labels (outputs). This data is used to adjust model weights during training.\n",
        "\n",
        "\n",
        "- **epochs** is the number of times the model will go through the entire training set. Each epoch consists of a cycle of going through the training data and adjusting the model weights.\n",
        "\n",
        "\n",
        "- **batch_size** is the number of training examples used in a single iteration. The training set is divided into smaller batches and adjustment of model weights is performed after each batch.\n",
        "\n",
        "\n",
        "- **validation_data = (xtest, ytest)** specifies the validation data to be used during training. This data is used to evaluate the model's performance on an independent dataset during training. xtest are the test resources and ytest are the corresponding labels."
      ]
    },
    {
      "cell_type": "code",
      "execution_count": 30,
      "id": "74f896eb",
      "metadata": {
        "execution": {
          "iopub.execute_input": "2023-05-15T16:07:50.652877Z",
          "iopub.status.busy": "2023-05-15T16:07:50.652442Z",
          "iopub.status.idle": "2023-05-15T16:07:51.955784Z",
          "shell.execute_reply": "2023-05-15T16:07:51.954451Z"
        },
        "papermill": {
          "duration": 1.785464,
          "end_time": "2023-05-15T16:07:51.958414",
          "exception": false,
          "start_time": "2023-05-15T16:07:50.172950",
          "status": "completed"
        },
        "tags": [],
        "colab": {
          "base_uri": "https://localhost:8080/"
        },
        "id": "74f896eb",
        "outputId": "9acd10a2-b531-467e-d77e-c148aa61293b"
      },
      "outputs": [
        {
          "output_type": "stream",
          "name": "stdout",
          "text": [
            "107/107 [==============================] - 0s 1ms/step - loss: 0.1917 - accuracy: 0.9071\n",
            "Test loss: 0.1917\n",
            "Test accuracy: 0.9071\n"
          ]
        }
      ],
      "source": [
        "# Evaluating the model on test data\n",
        "loss, accuracy = model.evaluate(X_test, y_test)\n",
        "print(f'Test loss: {loss:.4f}')\n",
        "print(f'Test accuracy: {accuracy:.4f}')"
      ]
    },
    {
      "cell_type": "markdown",
      "id": "911cf85d",
      "metadata": {
        "papermill": {
          "duration": 0.473651,
          "end_time": "2023-05-15T16:07:52.989866",
          "exception": false,
          "start_time": "2023-05-15T16:07:52.516215",
          "status": "completed"
        },
        "tags": [],
        "id": "911cf85d"
      },
      "source": [
        "In this part of the code, we are evaluating the performance of the trained model using the test data. Here is an explanation of the different parts:\n",
        "\n",
        "- **model.evaluate(xtest, ytest)** calculates the loss and accuracy of the model in relation to the test data. Loss is a measure of how well the model is performing the task, while accuracy is the proportion of test examples correctly classified by the model.\n",
        "\n",
        "\n",
        "- **loss** is the loss calculated by the model on the test data.\n",
        "\n",
        "\n",
        "- **accuracy** is the accuracy calculated by the model on the test data.\n",
        "\n",
        "\n",
        "- **print(f'Test loss: {loss}')** prints the loss calculated during the evaluation of the test data.\n",
        "\n",
        "\n",
        "- **print(f'Test accuracy: {accuracy}')** prints the accuracy calculated during the evaluation of the test data.\n",
        "\n",
        "This information is useful for understanding the performance of the trained model and evaluating its ability to generalize to previously unseen data."
      ]
    },
    {
      "cell_type": "code",
      "source": [
        "# Saving the model\n",
        "model.save('diabetes_model')\n",
        "#tf.keras.models.save_model(model, 'diabetes_model.hdf5')"
      ],
      "metadata": {
        "id": "U_pMYVUytrC8"
      },
      "id": "U_pMYVUytrC8",
      "execution_count": 32,
      "outputs": []
    },
    {
      "cell_type": "markdown",
      "source": [
        "In this code, we are saving the trained model to a file called 'diabetes_model' in the current directory using the model.save function."
      ],
      "metadata": {
        "id": "dJByf9U9vHpv"
      },
      "id": "dJByf9U9vHpv"
    },
    {
      "cell_type": "code",
      "source": [
        "# Create a DataFrame with input values\n",
        "input_data = pd.DataFrame({\n",
        "    'gender': ['Male'],\n",
        "    'age': [28],\n",
        "    'hypertension': [0],\n",
        "    'heart_disease': [0],\n",
        "    'smoking_history': ['never'],\n",
        "    'bmi': [27.32],\n",
        "    'HbA1c_level': [5.7],\n",
        "    'blood_glucose_level': [158],\n",
        "})\n",
        "\n",
        "# Convert categorical columns to numerical using LabelEncoder\n",
        "input_data[['gender', 'smoking_history']] = input_data[['gender', 'smoking_history']].apply(LabelEncoder().fit_transform)\n",
        "\n",
        "# Standardize the input data\n",
        "input_data_scaled = scaler.transform(input_data)\n",
        "\n",
        "# Make predictions using the trained model\n",
        "prediction_probability = model.predict(input_data_scaled)\n",
        "\n",
        "# Convert probability to binary prediction\n",
        "binary_prediction = (prediction_probability > 0.5).astype(int)\n",
        "\n",
        "# Display the results\n",
        "print(\"Prediction Probability:\", prediction_probability)\n",
        "print(\"Binary Prediction:\", binary_prediction)\n"
      ],
      "metadata": {
        "colab": {
          "base_uri": "https://localhost:8080/"
        },
        "id": "Ye2OjC1SxRz8",
        "outputId": "e3d62e2f-535d-41a8-c85b-e6b142ab5fb3"
      },
      "id": "Ye2OjC1SxRz8",
      "execution_count": 57,
      "outputs": [
        {
          "output_type": "stream",
          "name": "stdout",
          "text": [
            "1/1 [==============================] - 0s 23ms/step\n",
            "Prediction Probability: [[0.08983746]]\n",
            "Binary Prediction: [[0]]\n"
          ]
        }
      ]
    },
    {
      "cell_type": "markdown",
      "source": [
        "Certainly! Let's go through each part of the code:\n",
        "\n",
        "```python\n",
        "new_data[['gender', 'smoking_history']] = new_data[['gender', 'smoking_history']].apply(LabelEncoder().fit_transform)\n",
        "```\n",
        "- Here, the 'gender' and 'smoking_history' columns are label-encoded using `LabelEncoder()`. This transformation converts categorical labels into numerical values to ensure consistency with the training data.\n",
        "\n",
        "```python\n",
        "new_data_scaled = scaler.transform(new_data.drop('diabetes', axis=1))\n",
        "```\n",
        "\n",
        "- The new data is standardized using the same `scaler` that was used during the training phase. Standardization ensures that the features have the same scale as the training data.\n",
        "\n",
        "```python\n",
        "predictions = model.predict(new_data_scaled)\n",
        "```\n",
        "\n",
        "- The trained model is used to make predictions on the standardized new data using the `predict` method.\n",
        "\n",
        "```python\n",
        "binary_predictions = (predictions > 0.5).astype(int)\n",
        "```\n",
        "\n",
        "- The predicted probabilities are converted into binary predictions by setting a threshold (0.5 in this case). Values above the threshold are classified as 1, and values below or equal to the threshold are classified as 0.\n",
        "\n",
        "```python\n",
        "print(\"Predictions:\")\n",
        "print(binary_predictions)\n",
        "```\n",
        "\n",
        "- Finally, the binary predictions are displayed to the user. This provides the predicted outcome based on the input data."
      ],
      "metadata": {
        "id": "05SZNOB9y174"
      },
      "id": "05SZNOB9y174"
    }
  ],
  "metadata": {
    "kernelspec": {
      "display_name": "Python 3",
      "language": "python",
      "name": "python3"
    },
    "language_info": {
      "codemirror_mode": {
        "name": "ipython",
        "version": 3
      },
      "file_extension": ".py",
      "mimetype": "text/x-python",
      "name": "python",
      "nbconvert_exporter": "python",
      "pygments_lexer": "ipython3",
      "version": "3.10.10"
    },
    "papermill": {
      "default_parameters": {},
      "duration": 338.47211,
      "end_time": "2023-05-15T16:07:59.246595",
      "environment_variables": {},
      "exception": null,
      "input_path": "__notebook__.ipynb",
      "output_path": "__notebook__.ipynb",
      "parameters": {},
      "start_time": "2023-05-15T16:02:20.774485",
      "version": "2.4.0"
    },
    "colab": {
      "provenance": [],
      "include_colab_link": true
    }
  },
  "nbformat": 4,
  "nbformat_minor": 5
}